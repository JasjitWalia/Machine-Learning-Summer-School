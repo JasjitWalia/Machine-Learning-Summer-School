{
  "nbformat": 4,
  "nbformat_minor": 0,
  "metadata": {
    "colab": {
      "provenance": [],
      "authorship_tag": "ABX9TyMP+q8r26Ve1BF/iKwtaIw+",
      "include_colab_link": true
    },
    "kernelspec": {
      "name": "python3",
      "display_name": "Python 3"
    },
    "language_info": {
      "name": "python"
    }
  },
  "cells": [
    {
      "cell_type": "markdown",
      "metadata": {
        "id": "view-in-github",
        "colab_type": "text"
      },
      "source": [
        "<a href=\"https://colab.research.google.com/github/JasjitWalia/Machine-Learning-Summer-School/blob/main/Challenge_Question_Assignment_2.ipynb\" target=\"_parent\"><img src=\"https://colab.research.google.com/assets/colab-badge.svg\" alt=\"Open In Colab\"/></a>"
      ]
    },
    {
      "cell_type": "code",
      "execution_count": 1,
      "metadata": {
        "id": "m28qvb0RBb1Q"
      },
      "outputs": [],
      "source": [
        "L = [\"Ram\", 1, \"Shyam\", 2, \"Aman\", 3]"
      ]
    },
    {
      "cell_type": "code",
      "source": [
        "# Converting integers to strings\n",
        "L = [str(item) for item in L]"
      ],
      "metadata": {
        "id": "1ycJvObRBiKI"
      },
      "execution_count": 2,
      "outputs": []
    },
    {
      "cell_type": "code",
      "source": [
        "# Sorting the list\n",
        "sorted_list = sorted(L)"
      ],
      "metadata": {
        "id": "x-7yPK14Bsmd"
      },
      "execution_count": 3,
      "outputs": []
    },
    {
      "cell_type": "code",
      "source": [
        "# Convert the sorted strings back to integer values\n",
        "sorted_list = [int(item) if item.isdigit() else item for item in sorted_list]"
      ],
      "metadata": {
        "id": "LDwKbaAfBxK7"
      },
      "execution_count": 4,
      "outputs": []
    },
    {
      "cell_type": "code",
      "source": [
        "#printing the sorted list\n",
        "print(sorted_list)\n"
      ],
      "metadata": {
        "colab": {
          "base_uri": "https://localhost:8080/"
        },
        "id": "yF0eN5MjB3KC",
        "outputId": "0c4ce4f7-5dd8-414f-9efc-b2ac8e0ac478"
      },
      "execution_count": 6,
      "outputs": [
        {
          "output_type": "stream",
          "name": "stdout",
          "text": [
            "[1, 2, 3, 'Aman', 'Ram', 'Shyam']\n"
          ]
        }
      ]
    },
    {
      "cell_type": "code",
      "source": [],
      "metadata": {
        "id": "DwiTLm8OB8RE"
      },
      "execution_count": null,
      "outputs": []
    }
  ]
}